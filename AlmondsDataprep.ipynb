{
 "cells": [
  {
   "cell_type": "code",
   "execution_count": 1,
   "id": "9eebc43f",
   "metadata": {},
   "outputs": [],
   "source": [
    "import numpy as np\n",
    "import matplotlib.pyplot as plt\n",
    "import torch\n",
    "import pandas as pd\n",
    "import torch.nn as nn\n",
    "from sklearn.preprocessing import StandardScaler\n",
    "import pickle"
   ]
  },
  {
   "cell_type": "code",
   "execution_count": 2,
   "id": "5a276339",
   "metadata": {},
   "outputs": [
    {
     "data": {
      "text/plain": [
       "(2803, 13)"
      ]
     },
     "execution_count": 2,
     "metadata": {},
     "output_type": "execute_result"
    }
   ],
   "source": [
    "data = pd.read_csv(r'C:\\Users\\HUAWEI D15\\Desktop\\Postgrad\\2.Hons SEM 2\\COS711\\Assignments\\A2\\almonds\\Almond.csv')\n",
    "data_numpy = data.to_numpy(None)\n",
    "data_numpy = data_numpy[0:,1:]\n",
    "data_numpy.shape"
   ]
  },
  {
   "cell_type": "code",
   "execution_count": 3,
   "id": "c45d7a38",
   "metadata": {},
   "outputs": [],
   "source": [
    "mamra = []\n",
    "sanora = []\n",
    "regular = []\n",
    "\n",
    "for i in range(len(data_numpy)):\n",
    "    if data_numpy[i,-1] == 'MAMRA':\n",
    "        mamra.append(data_numpy[i,:])\n",
    "        \n",
    "    if data_numpy[i,-1] == 'SANORA':\n",
    "        sanora.append(data_numpy[i,:])\n",
    "        \n",
    "    if data_numpy[i,-1] == 'REGULAR':\n",
    "        regular.append(data_numpy[i,:])\n",
    "        \n",
    "mamra = np.array(mamra)\n",
    "sanora = np.array(sanora)\n",
    "regular = np.array(regular)"
   ]
  },
  {
   "cell_type": "code",
   "execution_count": 4,
   "id": "e9f729f1",
   "metadata": {},
   "outputs": [
    {
     "name": "stdout",
     "output_type": "stream",
     "text": [
      "(933, 13) (943, 13) (927, 13)\n",
      "True\n"
     ]
    }
   ],
   "source": [
    "print(mamra.shape,sanora.shape,regular.shape)\n",
    "print(len(mamra) + len(sanora) + len(regular) == len(data_numpy))"
   ]
  },
  {
   "cell_type": "code",
   "execution_count": 5,
   "id": "aaf1b4df",
   "metadata": {},
   "outputs": [],
   "source": [
    "All = [mamra,sanora,regular]"
   ]
  },
  {
   "cell_type": "code",
   "execution_count": 6,
   "id": "84053964",
   "metadata": {},
   "outputs": [],
   "source": [
    "all_var = [] #variance of all features for each class\n",
    "all_mean = []\n",
    "all_median = []\n",
    "for n in All:\n",
    "    all_var.append(np.nanvar(n[:,:-1].astype(None),axis = 0))\n",
    "    all_mean.append(np.nanmean(n[:,:-1].astype(None),axis = 0))\n",
    "    all_median.append(np.nanmedian(n[:,:-1].astype(None),axis = 0))"
   ]
  },
  {
   "cell_type": "code",
   "execution_count": 7,
   "id": "b95f359d",
   "metadata": {},
   "outputs": [
    {
     "data": {
      "text/plain": [
       "(1.9230846417924634, 1.9143987085929863)"
      ]
     },
     "execution_count": 7,
     "metadata": {},
     "output_type": "execute_result"
    }
   ],
   "source": [
    "all_mean[0][8],all_median[0][8]"
   ]
  },
  {
   "cell_type": "code",
   "execution_count": 8,
   "id": "5e34e4f9",
   "metadata": {},
   "outputs": [],
   "source": [
    "for n in range(len(All)):\n",
    "    #Replacing NaN aspect ratios with the mean aspect ratio of that class\n",
    "    All[n][:,8][np.isnan(All[n][:,8].astype(None))] = all_mean[n][8]\n",
    "    \n",
    "    #Replacing NaN lengths and width with one computed from aspect ratio of that class\n",
    "    All[n][:,0][np.isnan(All[n][:,0].astype(None))] = All[n][:,1][np.isnan(All[n][:,0].astype(None))]*All[n][:,8][np.isnan(All[n][:,0].astype(None))]\n",
    "    All[n][:,1] = All[n][:,0]/All[n][:,8]\n",
    "    \n",
    "    #Replacing NaN depth values with mean values for that class\n",
    "    All[n][:,2][np.isnan(All[n][:,2].astype(None))] = all_mean[n][2]\n",
    "    \n",
    "    All[n][:,5] = 4*np.pi/(np.pi*All[n][:,0]) #Recalculating Roundness\n",
    "    All[n][:,9] = np.sqrt((1 - (All[n][:,1]/All[n][:,0])**2).astype(None)) #Recalculating Eccentricity"
   ]
  },
  {
   "cell_type": "code",
   "execution_count": 9,
   "id": "23d28846",
   "metadata": {},
   "outputs": [
    {
     "name": "stdout",
     "output_type": "stream",
     "text": [
      "[0 0 0 0 0 0 0 0 0 0 0 0]\n",
      "[0 0 0 0 0 0 0 0 0 0 0 0]\n",
      "[0 0 0 0 0 0 0 0 0 0 0 0]\n"
     ]
    }
   ],
   "source": [
    "for h in All:\n",
    "    print(sum(np.isnan(h[:,:-1].astype(None))))"
   ]
  },
  {
   "cell_type": "code",
   "execution_count": 10,
   "id": "fc0fe971",
   "metadata": {},
   "outputs": [],
   "source": [
    "# with open('almonds_prep.pickle','wb') as file:\n",
    "#     pickle.dump(All,file)"
   ]
  },
  {
   "cell_type": "code",
   "execution_count": 17,
   "id": "ef485879",
   "metadata": {},
   "outputs": [],
   "source": [
    "a = np.cov(All[0][:,:-1].astype(None),rowvar = False)"
   ]
  },
  {
   "cell_type": "code",
   "execution_count": 19,
   "id": "0150aeef",
   "metadata": {},
   "outputs": [],
   "source": [
    "A = pd.DataFrame(a)"
   ]
  },
  {
   "cell_type": "code",
   "execution_count": 20,
   "id": "f096a108",
   "metadata": {},
   "outputs": [
    {
     "data": {
      "text/html": [
       "<div>\n",
       "<style scoped>\n",
       "    .dataframe tbody tr th:only-of-type {\n",
       "        vertical-align: middle;\n",
       "    }\n",
       "\n",
       "    .dataframe tbody tr th {\n",
       "        vertical-align: top;\n",
       "    }\n",
       "\n",
       "    .dataframe thead th {\n",
       "        text-align: right;\n",
       "    }\n",
       "</style>\n",
       "<table border=\"1\" class=\"dataframe\">\n",
       "  <thead>\n",
       "    <tr style=\"text-align: right;\">\n",
       "      <th></th>\n",
       "      <th>0</th>\n",
       "      <th>1</th>\n",
       "      <th>2</th>\n",
       "      <th>3</th>\n",
       "      <th>4</th>\n",
       "      <th>5</th>\n",
       "      <th>6</th>\n",
       "      <th>7</th>\n",
       "      <th>8</th>\n",
       "      <th>9</th>\n",
       "      <th>10</th>\n",
       "      <th>11</th>\n",
       "    </tr>\n",
       "  </thead>\n",
       "  <tbody>\n",
       "    <tr>\n",
       "      <th>0</th>\n",
       "      <td>5600.807098</td>\n",
       "      <td>2626.013354</td>\n",
       "      <td>5.131182e+02</td>\n",
       "      <td>7.134476e+05</td>\n",
       "      <td>1.217876e+04</td>\n",
       "      <td>-0.241657</td>\n",
       "      <td>-0.214417</td>\n",
       "      <td>12.232158</td>\n",
       "      <td>3.373218e+00</td>\n",
       "      <td>5.918666e-01</td>\n",
       "      <td>0.185623</td>\n",
       "      <td>7.579622e+05</td>\n",
       "    </tr>\n",
       "    <tr>\n",
       "      <th>1</th>\n",
       "      <td>2626.013354</td>\n",
       "      <td>1376.584874</td>\n",
       "      <td>2.668204e+02</td>\n",
       "      <td>3.497641e+05</td>\n",
       "      <td>5.692796e+03</td>\n",
       "      <td>-0.114392</td>\n",
       "      <td>-0.065119</td>\n",
       "      <td>4.929571</td>\n",
       "      <td>-4.858558e-02</td>\n",
       "      <td>1.612424e-02</td>\n",
       "      <td>0.088407</td>\n",
       "      <td>3.697113e+05</td>\n",
       "    </tr>\n",
       "    <tr>\n",
       "      <th>2</th>\n",
       "      <td>513.118165</td>\n",
       "      <td>266.820375</td>\n",
       "      <td>2.420249e+02</td>\n",
       "      <td>6.408291e+04</td>\n",
       "      <td>1.355510e+03</td>\n",
       "      <td>-0.022519</td>\n",
       "      <td>-0.075488</td>\n",
       "      <td>1.197638</td>\n",
       "      <td>2.600194e-28</td>\n",
       "      <td>-2.573049e-17</td>\n",
       "      <td>0.017080</td>\n",
       "      <td>7.122244e+04</td>\n",
       "    </tr>\n",
       "    <tr>\n",
       "      <th>3</th>\n",
       "      <td>713447.631589</td>\n",
       "      <td>349764.130860</td>\n",
       "      <td>6.408291e+04</td>\n",
       "      <td>2.913871e+08</td>\n",
       "      <td>3.843511e+06</td>\n",
       "      <td>-29.061125</td>\n",
       "      <td>169.220033</td>\n",
       "      <td>-373.472554</td>\n",
       "      <td>2.910649e+02</td>\n",
       "      <td>1.765283e+01</td>\n",
       "      <td>364.497707</td>\n",
       "      <td>3.009905e+08</td>\n",
       "    </tr>\n",
       "    <tr>\n",
       "      <th>4</th>\n",
       "      <td>12178.762521</td>\n",
       "      <td>5692.796436</td>\n",
       "      <td>1.355510e+03</td>\n",
       "      <td>3.843511e+06</td>\n",
       "      <td>8.085584e+04</td>\n",
       "      <td>-0.520805</td>\n",
       "      <td>-4.150915</td>\n",
       "      <td>147.734260</td>\n",
       "      <td>7.679254e+00</td>\n",
       "      <td>9.788394e-01</td>\n",
       "      <td>-0.605004</td>\n",
       "      <td>4.201160e+06</td>\n",
       "    </tr>\n",
       "    <tr>\n",
       "      <th>5</th>\n",
       "      <td>-0.241657</td>\n",
       "      <td>-0.114392</td>\n",
       "      <td>-2.251922e-02</td>\n",
       "      <td>-2.906113e+01</td>\n",
       "      <td>-5.208052e-01</td>\n",
       "      <td>0.000011</td>\n",
       "      <td>0.000016</td>\n",
       "      <td>-0.000626</td>\n",
       "      <td>-1.363859e-04</td>\n",
       "      <td>-2.525438e-05</td>\n",
       "      <td>-0.000003</td>\n",
       "      <td>-3.103377e+01</td>\n",
       "    </tr>\n",
       "    <tr>\n",
       "      <th>6</th>\n",
       "      <td>-0.214417</td>\n",
       "      <td>-0.065119</td>\n",
       "      <td>-7.548779e-02</td>\n",
       "      <td>1.692200e+02</td>\n",
       "      <td>-4.150915e+00</td>\n",
       "      <td>0.000016</td>\n",
       "      <td>0.002350</td>\n",
       "      <td>-0.037716</td>\n",
       "      <td>-6.057499e-04</td>\n",
       "      <td>-1.617831e-04</td>\n",
       "      <td>0.002329</td>\n",
       "      <td>1.091706e+02</td>\n",
       "    </tr>\n",
       "    <tr>\n",
       "      <th>7</th>\n",
       "      <td>12.232158</td>\n",
       "      <td>4.929571</td>\n",
       "      <td>1.197638e+00</td>\n",
       "      <td>-3.734726e+02</td>\n",
       "      <td>1.477343e+02</td>\n",
       "      <td>-0.000626</td>\n",
       "      <td>-0.037716</td>\n",
       "      <td>0.883626</td>\n",
       "      <td>1.678721e-02</td>\n",
       "      <td>3.657534e-03</td>\n",
       "      <td>-0.033339</td>\n",
       "      <td>7.822324e+02</td>\n",
       "    </tr>\n",
       "    <tr>\n",
       "      <th>8</th>\n",
       "      <td>3.373218</td>\n",
       "      <td>-0.048586</td>\n",
       "      <td>2.600194e-28</td>\n",
       "      <td>2.910649e+02</td>\n",
       "      <td>7.679254e+00</td>\n",
       "      <td>-0.000136</td>\n",
       "      <td>-0.000606</td>\n",
       "      <td>0.016787</td>\n",
       "      <td>2.120858e-02</td>\n",
       "      <td>3.449591e-03</td>\n",
       "      <td>0.000100</td>\n",
       "      <td>3.284533e+02</td>\n",
       "    </tr>\n",
       "    <tr>\n",
       "      <th>9</th>\n",
       "      <td>0.591867</td>\n",
       "      <td>0.016124</td>\n",
       "      <td>-2.573049e-17</td>\n",
       "      <td>1.765283e+01</td>\n",
       "      <td>9.788394e-01</td>\n",
       "      <td>-0.000025</td>\n",
       "      <td>-0.000162</td>\n",
       "      <td>0.003658</td>\n",
       "      <td>3.449591e-03</td>\n",
       "      <td>6.126928e-04</td>\n",
       "      <td>-0.000080</td>\n",
       "      <td>2.406517e+01</td>\n",
       "    </tr>\n",
       "    <tr>\n",
       "      <th>10</th>\n",
       "      <td>0.185623</td>\n",
       "      <td>0.088407</td>\n",
       "      <td>1.707991e-02</td>\n",
       "      <td>3.644977e+02</td>\n",
       "      <td>-6.050040e-01</td>\n",
       "      <td>-0.000003</td>\n",
       "      <td>0.002329</td>\n",
       "      <td>-0.033339</td>\n",
       "      <td>1.001332e-04</td>\n",
       "      <td>-8.022376e-05</td>\n",
       "      <td>0.003802</td>\n",
       "      <td>3.166973e+02</td>\n",
       "    </tr>\n",
       "    <tr>\n",
       "      <th>11</th>\n",
       "      <td>757962.242487</td>\n",
       "      <td>369711.292863</td>\n",
       "      <td>7.122244e+04</td>\n",
       "      <td>3.009905e+08</td>\n",
       "      <td>4.201160e+06</td>\n",
       "      <td>-31.033769</td>\n",
       "      <td>109.170604</td>\n",
       "      <td>782.232414</td>\n",
       "      <td>3.284533e+02</td>\n",
       "      <td>2.406517e+01</td>\n",
       "      <td>316.697263</td>\n",
       "      <td>3.133159e+08</td>\n",
       "    </tr>\n",
       "  </tbody>\n",
       "</table>\n",
       "</div>"
      ],
      "text/plain": [
       "               0              1             2             3             4   \\\n",
       "0     5600.807098    2626.013354  5.131182e+02  7.134476e+05  1.217876e+04   \n",
       "1     2626.013354    1376.584874  2.668204e+02  3.497641e+05  5.692796e+03   \n",
       "2      513.118165     266.820375  2.420249e+02  6.408291e+04  1.355510e+03   \n",
       "3   713447.631589  349764.130860  6.408291e+04  2.913871e+08  3.843511e+06   \n",
       "4    12178.762521    5692.796436  1.355510e+03  3.843511e+06  8.085584e+04   \n",
       "5       -0.241657      -0.114392 -2.251922e-02 -2.906113e+01 -5.208052e-01   \n",
       "6       -0.214417      -0.065119 -7.548779e-02  1.692200e+02 -4.150915e+00   \n",
       "7       12.232158       4.929571  1.197638e+00 -3.734726e+02  1.477343e+02   \n",
       "8        3.373218      -0.048586  2.600194e-28  2.910649e+02  7.679254e+00   \n",
       "9        0.591867       0.016124 -2.573049e-17  1.765283e+01  9.788394e-01   \n",
       "10       0.185623       0.088407  1.707991e-02  3.644977e+02 -6.050040e-01   \n",
       "11  757962.242487  369711.292863  7.122244e+04  3.009905e+08  4.201160e+06   \n",
       "\n",
       "           5           6           7             8             9           10  \\\n",
       "0   -0.241657   -0.214417   12.232158  3.373218e+00  5.918666e-01    0.185623   \n",
       "1   -0.114392   -0.065119    4.929571 -4.858558e-02  1.612424e-02    0.088407   \n",
       "2   -0.022519   -0.075488    1.197638  2.600194e-28 -2.573049e-17    0.017080   \n",
       "3  -29.061125  169.220033 -373.472554  2.910649e+02  1.765283e+01  364.497707   \n",
       "4   -0.520805   -4.150915  147.734260  7.679254e+00  9.788394e-01   -0.605004   \n",
       "5    0.000011    0.000016   -0.000626 -1.363859e-04 -2.525438e-05   -0.000003   \n",
       "6    0.000016    0.002350   -0.037716 -6.057499e-04 -1.617831e-04    0.002329   \n",
       "7   -0.000626   -0.037716    0.883626  1.678721e-02  3.657534e-03   -0.033339   \n",
       "8   -0.000136   -0.000606    0.016787  2.120858e-02  3.449591e-03    0.000100   \n",
       "9   -0.000025   -0.000162    0.003658  3.449591e-03  6.126928e-04   -0.000080   \n",
       "10  -0.000003    0.002329   -0.033339  1.001332e-04 -8.022376e-05    0.003802   \n",
       "11 -31.033769  109.170604  782.232414  3.284533e+02  2.406517e+01  316.697263   \n",
       "\n",
       "              11  \n",
       "0   7.579622e+05  \n",
       "1   3.697113e+05  \n",
       "2   7.122244e+04  \n",
       "3   3.009905e+08  \n",
       "4   4.201160e+06  \n",
       "5  -3.103377e+01  \n",
       "6   1.091706e+02  \n",
       "7   7.822324e+02  \n",
       "8   3.284533e+02  \n",
       "9   2.406517e+01  \n",
       "10  3.166973e+02  \n",
       "11  3.133159e+08  "
      ]
     },
     "execution_count": 20,
     "metadata": {},
     "output_type": "execute_result"
    }
   ],
   "source": [
    "A"
   ]
  },
  {
   "cell_type": "code",
   "execution_count": null,
   "id": "83524347",
   "metadata": {},
   "outputs": [],
   "source": []
  }
 ],
 "metadata": {
  "kernelspec": {
   "display_name": "Python 3 (ipykernel)",
   "language": "python",
   "name": "python3"
  },
  "language_info": {
   "codemirror_mode": {
    "name": "ipython",
    "version": 3
   },
   "file_extension": ".py",
   "mimetype": "text/x-python",
   "name": "python",
   "nbconvert_exporter": "python",
   "pygments_lexer": "ipython3",
   "version": "3.9.12"
  }
 },
 "nbformat": 4,
 "nbformat_minor": 5
}
