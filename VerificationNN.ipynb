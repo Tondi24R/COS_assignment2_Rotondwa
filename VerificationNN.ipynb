{
 "cells": [
  {
   "cell_type": "code",
   "execution_count": 1,
   "id": "d8d85c54",
   "metadata": {},
   "outputs": [],
   "source": [
    "import numpy as np\n",
    "import matplotlib.pyplot as plt"
   ]
  },
  {
   "cell_type": "code",
   "execution_count": 10,
   "id": "45e1e014",
   "metadata": {},
   "outputs": [],
   "source": [
    "def sigmoid(x):\n",
    "    return 1/(1 + np.exp(-x))"
   ]
  },
  {
   "cell_type": "code",
   "execution_count": 21,
   "id": "06e1393c",
   "metadata": {},
   "outputs": [
    {
     "data": {
      "text/plain": [
       "(2, 1)"
      ]
     },
     "execution_count": 21,
     "metadata": {},
     "output_type": "execute_result"
    }
   ],
   "source": [
    "x = np.array([[1,1]]).reshape(-1,1)\n",
    "x.shape"
   ]
  },
  {
   "cell_type": "code",
   "execution_count": 22,
   "id": "78f2b3dd",
   "metadata": {},
   "outputs": [
    {
     "name": "stdout",
     "output_type": "stream",
     "text": [
      "Net 1\n",
      " [[-7.3409]\n",
      " [10.9891]]\n",
      "y1\n",
      " [[6.48046402e-04]\n",
      " [9.99983116e-01]]\n",
      "Net 2\n",
      " [[-0.42669272]\n",
      " [-0.20221245]\n",
      " [-0.0274475 ]]\n",
      "y2\n",
      " [[0.39491636]\n",
      " [0.44961845]\n",
      " [0.49313855]]\n",
      "Net 2out\n",
      " [[0.00700899]]\n",
      "y2out\n",
      " [[0.50175224]]\n"
     ]
    }
   ],
   "source": [
    "arch = {1:2, 2:3}\n",
    "#Layer 1: 2 neurons\n",
    "l1_weights = np.array([[3.9545,-7.1604],\n",
    "                       [3.9158, 6.9559]])\n",
    "\n",
    "b1 = np.array([-4.1350,  0.1174]).reshape(-1,1)\n",
    "net1 = l1_weights@x + b1\n",
    "y1 = sigmoid(net1)\n",
    "print(\"Net 1\\n\",net1)\n",
    "print(\"y1\\n\",y1)\n",
    "\n",
    "\n",
    "#Layer 2: 3 neurons\n",
    "l2_weights = np.array([[-3.6290, -3.4968],\n",
    "        [-3.6451, -2.9462],\n",
    "        [ 4.0213,  3.1682]])\n",
    "\n",
    "b2 = np.array([ 3.0724,  2.7463, -3.1982]).reshape(-1,1)\n",
    "net2 = l2_weights@y1 + b2\n",
    "y2 = sigmoid(net2)\n",
    "print(\"Net 2\\n\",net2)\n",
    "print(\"y2\\n\",y2)\n",
    "\n",
    "#Output layer\n",
    "lout_weights = np.array([[-3.3871, -3.7787,  4.1240]])\n",
    "bout = np.array([1.0099])\n",
    "netout = lout_weights@y2 + bout\n",
    "yout = sigmoid(netout)\n",
    "print(\"Net 2out\\n\",netout)\n",
    "print(\"y2out\\n\",yout)"
   ]
  },
  {
   "cell_type": "code",
   "execution_count": null,
   "id": "8522bc85",
   "metadata": {},
   "outputs": [],
   "source": []
  },
  {
   "cell_type": "code",
   "execution_count": null,
   "id": "b28a3c78",
   "metadata": {},
   "outputs": [],
   "source": []
  }
 ],
 "metadata": {
  "kernelspec": {
   "display_name": "Python 3 (ipykernel)",
   "language": "python",
   "name": "python3"
  },
  "language_info": {
   "codemirror_mode": {
    "name": "ipython",
    "version": 3
   },
   "file_extension": ".py",
   "mimetype": "text/x-python",
   "name": "python",
   "nbconvert_exporter": "python",
   "pygments_lexer": "ipython3",
   "version": "3.9.12"
  }
 },
 "nbformat": 4,
 "nbformat_minor": 5
}
